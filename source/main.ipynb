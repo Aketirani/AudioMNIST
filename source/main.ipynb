{
 "cells": [
  {
   "attachments": {},
   "cell_type": "markdown",
   "metadata": {},
   "source": [
    "# Audio MNIST"
   ]
  },
  {
   "cell_type": "code",
   "execution_count": 1,
   "metadata": {},
   "outputs": [],
   "source": [
    "from setup import Setup\n",
    "from utilities import Utilities\n",
    "import glob\n",
    "import os\n",
    "import pandas as pd\n",
    "from data_processing import DataProcessing\n",
    "from data_visualization import DataVisualization\n",
    "\n",
    "# Initialize the setup class with the config file path\n",
    "SU = Setup(cfg_filepath = 'config.yaml')\n",
    "\n",
    "# Get the paths\n",
    "source_path = SU.source_path\n",
    "meta_data_path = SU.source_meta_path\n",
    "destination_path = SU.destination_path\n",
    "plot_path = SU.plot_path\n",
    "meta_data = SU.meta_data\n",
    "\n",
    "# Initialize the Utilities class\n",
    "UT = Utilities()\n",
    "\n",
    "# Define the target sample rate\n",
    "target_sr = 8000\n",
    "\n",
    "# Initialize the DataProcessing class with the destination path, and target sample rate\n",
    "DP = DataProcessing(destination_path, target_sr)\n",
    "\n",
    "# Initialize the DataVisualization class with the target sample rate\n",
    "DV = DataVisualization()\n",
    "\n",
    "# Create empty dataframe with column names\n",
    "columns=['mean', 'std', 'avg', 'median', 'min', 'max', 'skewness', 'kurtosis', 'gender', 'digit']\n",
    "df = UT.create_dataframe(columns)\n",
    "\n",
    "# Loop over the audio recordings in the source path\n",
    "all_folders = len(next(os.walk(source_path))[1])+1\n",
    "for i in range(1, 2): # instert all_folders when done testing\n",
    "    src_temp = os.path.join(source_path, f\"{i:02d}\")\n",
    "    filepath_filename = sorted(glob.glob(os.path.join(src_temp, \"*.wav\")))\n",
    "    for file in filepath_filename:\n",
    "        # Split file string\n",
    "        dig, vp, rep = file.rstrip(\".wav\").split(\"/\")[-1].split(\"_\")\n",
    "\n",
    "        # read audio data\n",
    "        fs, data = UT.read_audio(file)\n",
    "\n",
    "        # plot audio signal\n",
    "        plot_name = f\"{dig[-1]}_{vp}_{rep}.png\"\n",
    "        #DV.plot_signal(fs, data, plot_path, plot_name)\n",
    "\n",
    "        # play audio signal\n",
    "        #DV.play_audio(file)\n",
    "\n",
    "        # resample audio data\n",
    "        data = DP.resample_data(fs, data, target_sr)\n",
    "\n",
    "        # zero padding audio data\n",
    "        data = DP.zero_pad(data, target_sr)\n",
    "\n",
    "        # FFT audio data\n",
    "        data = DP.fft_data(data)\n",
    "\n",
    "        # Feature creation\n",
    "        features = DP.feature_creation(data)\n",
    "\n",
    "        # Normalize features\n",
    "        n_features = DP.normalize_features(features)\n",
    "\n",
    "        # Add gender and digit label\n",
    "        features = DP.add_gender(n_features, meta_data[vp][\"gender\"])\n",
    "        features = DP.add_digit(n_features, dig[-1])\n",
    "\n",
    "        # Append new dict values to the DataFrame\n",
    "        df = df.append(features, ignore_index=True)\n",
    "\n",
    "# Save data to CSV\n",
    "csv_name = \"audio_data.csv\"\n",
    "UT.save_df_to_csv(df, destination_path, csv_name)"
   ]
  }
 ],
 "metadata": {
  "kernelspec": {
   "display_name": "base",
   "language": "python",
   "name": "python3"
  },
  "language_info": {
   "codemirror_mode": {
    "name": "ipython",
    "version": 3
   },
   "file_extension": ".py",
   "mimetype": "text/x-python",
   "name": "python",
   "nbconvert_exporter": "python",
   "pygments_lexer": "ipython3",
   "version": "3.8.5"
  },
  "orig_nbformat": 4,
  "vscode": {
   "interpreter": {
    "hash": "d23f3ceec305a45481076084313530cecc6283a24046b34365f00383ab0a81b1"
   }
  }
 },
 "nbformat": 4,
 "nbformat_minor": 2
}
