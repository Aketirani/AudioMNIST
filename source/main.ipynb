{
 "cells": [
  {
   "attachments": {},
   "cell_type": "markdown",
   "metadata": {},
   "source": [
    "# Audio MNIST"
   ]
  },
  {
   "cell_type": "code",
   "execution_count": 2,
   "metadata": {},
   "outputs": [],
   "source": [
    "from setup import setUp\n",
    "import glob\n",
    "import os\n",
    "import pandas as pd\n",
    "from data_processing import DataProcessing\n",
    "\n",
    "# Initialize the setup class with the config file path\n",
    "setup = setUp(cfg_filepath = 'config.yaml')\n",
    "\n",
    "# Get the source path, meta data path, and destination path\n",
    "source_path = setup.source_path\n",
    "meta_data_path = setup.source_meta_path\n",
    "destination_path = setup.destination_path\n",
    "meta_data = setup.meta_data\n",
    "\n",
    "# Define the target sample rate\n",
    "target_sr = 8000\n",
    "\n",
    "# Initialize the DataProcessing class with the destination path, and target sample rate\n",
    "DP = DataProcessing(destination_path, target_sr)\n",
    "\n",
    "# Create empty dataframe with column names\n",
    "df = pd.DataFrame(columns=['mean', 'std', 'avg', 'median', 'min', 'max', 'skewness', 'kurtosis', 'gender', 'digit'])\n",
    "\n",
    "# Loop over the audio recordings in the source path\n",
    "all_folders = len(next(os.walk(source_path))[1])+1\n",
    "for i in range(1, 2): # instert all_folders when done testing\n",
    "    src_temp = os.path.join(source_path, f\"{i:02d}\")\n",
    "    filepath_filename = sorted(glob.glob(os.path.join(src_temp, \"*.wav\")))\n",
    "    for file in filepath_filename:\n",
    "        # read audio data\n",
    "        fs, data = DP.read_audio(file)\n",
    "        \n",
    "        # resample audio data\n",
    "        data = DP.resample_data(fs, data, target_sr)\n",
    "        \n",
    "        # zero padding audio data\n",
    "        data = DP.zero_pad(data, target_sr)\n",
    "\n",
    "        # FFT audio data\n",
    "        data = DP.fft_data(data)\n",
    "\n",
    "        # Feature creation\n",
    "        features = DP.fft_features(data)\n",
    "\n",
    "        # Normalize features\n",
    "        n_features = DP.normalize_features(features)\n",
    "\n",
    "        # Add gender and digit label\n",
    "        dig, vp, rep = file.rstrip(\".wav\").split(\"/\")[-1].split(\"_\")\n",
    "        features = DP.add_gender(n_features, meta_data[vp][\"gender\"])\n",
    "        features = DP.add_digit(n_features, dig[-1])\n",
    "\n",
    "        # Append new dict values to the DataFrame\n",
    "        df = df.append(features, ignore_index=True)\n",
    "        \n",
    "# Save data to CSV\n",
    "DP.save_df_to_csv(df, os.path.join(destination_path, \"audio_data.csv\"))"
   ]
  }
 ],
 "metadata": {
  "kernelspec": {
   "display_name": "base",
   "language": "python",
   "name": "python3"
  },
  "language_info": {
   "codemirror_mode": {
    "name": "ipython",
    "version": 3
   },
   "file_extension": ".py",
   "mimetype": "text/x-python",
   "name": "python",
   "nbconvert_exporter": "python",
   "pygments_lexer": "ipython3",
   "version": "3.8.5"
  },
  "orig_nbformat": 4,
  "vscode": {
   "interpreter": {
    "hash": "d23f3ceec305a45481076084313530cecc6283a24046b34365f00383ab0a81b1"
   }
  }
 },
 "nbformat": 4,
 "nbformat_minor": 2
}
