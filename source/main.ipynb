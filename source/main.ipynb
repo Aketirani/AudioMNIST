{
 "cells": [
  {
   "attachments": {},
   "cell_type": "markdown",
   "metadata": {},
   "source": [
    "# Audio MNIST"
   ]
  },
  {
   "attachments": {},
   "cell_type": "markdown",
   "metadata": {},
   "source": [
    "#### Load Setup"
   ]
  },
  {
   "cell_type": "code",
   "execution_count": 1,
   "metadata": {},
   "outputs": [],
   "source": [
    "from setup import setUp\n",
    "\n",
    "# Initialize the setup class with the config file path\n",
    "setup = setUp(cfg_filepath = 'config.yaml')\n",
    "\n",
    "# Get the source path, meta data path, and destination path\n",
    "source_path = setup.source_path\n",
    "meta_data_path = setup.source_meta_path\n",
    "destination_path = setup.destination_path\n",
    "meta_data = setup.meta_data"
   ]
  },
  {
   "cell_type": "code",
   "execution_count": null,
   "metadata": {},
   "outputs": [],
   "source": [
    "## In data processing class\n",
    "# Add FFT function\n",
    "# Create dict with features\n",
    "# Add label column\n",
    "# Normalize features\n",
    "# Save to df and append somehow\n",
    "# End of loop, save to csv\n",
    "# Remove save_resampled_data"
   ]
  },
  {
   "attachments": {},
   "cell_type": "markdown",
   "metadata": {},
   "source": [
    "#### Data Processing"
   ]
  },
  {
   "cell_type": "code",
   "execution_count": 2,
   "metadata": {},
   "outputs": [],
   "source": [
    "import glob\n",
    "import os\n",
    "from feature_creation import FeatureCreation\n",
    "from data_processing import DataProcessing\n",
    "\n",
    "source_path = 'C:/GitProjects/AudioMNIST\\\\data'\n",
    "destination_path = 'C:/GitProjects/AudioMNIST\\\\preprocessed_data'\n",
    "\n",
    "# Define the target sample rate\n",
    "target_sr = 8000\n",
    "\n",
    "# Initialize the DataProcessing class with the destination path, and target sample rate\n",
    "DP = DataProcessing(destination_path, target_sr)\n",
    "\n",
    "# Loop over the audio recordings in the source path\n",
    "all_folders = len(next(os.walk(source_path))[1])+1\n",
    "for i in range(1, 2): # instert all_folders when done testing\n",
    "    src_temp = os.path.join(source_path, f\"{i:02d}\")\n",
    "    filepath_filename = sorted(glob.glob(os.path.join(src_temp, \"*.wav\")))\n",
    "    for file in filepath_filename:\n",
    "        # read audio data\n",
    "        fs, data = DP.read_audio(file)\n",
    "        \n",
    "        # resample audio data\n",
    "        data = DP.resample_data(fs, data, target_sr)\n",
    "        \n",
    "        # zero padding audio data\n",
    "        data = DP.zero_pad(data, target_sr)\n",
    "        \n",
    "        # save the resampled audio data\n",
    "        # DP.save_resampled_data(file, data, target_sr)\n"
   ]
  }
 ],
 "metadata": {
  "kernelspec": {
   "display_name": "base",
   "language": "python",
   "name": "python3"
  },
  "language_info": {
   "codemirror_mode": {
    "name": "ipython",
    "version": 3
   },
   "file_extension": ".py",
   "mimetype": "text/x-python",
   "name": "python",
   "nbconvert_exporter": "python",
   "pygments_lexer": "ipython3",
   "version": "3.8.5 (default, Sep  3 2020, 21:29:08) [MSC v.1916 64 bit (AMD64)]"
  },
  "orig_nbformat": 4,
  "vscode": {
   "interpreter": {
    "hash": "d23f3ceec305a45481076084313530cecc6283a24046b34365f00383ab0a81b1"
   }
  }
 },
 "nbformat": 4,
 "nbformat_minor": 2
}
