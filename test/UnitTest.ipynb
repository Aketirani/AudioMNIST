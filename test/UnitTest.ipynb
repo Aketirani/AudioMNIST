{
 "cells": [
  {
   "cell_type": "code",
   "execution_count": 8,
   "metadata": {},
   "outputs": [
    {
     "name": "stdout",
     "output_type": "stream",
     "text": [
      "(8000,) (8000,)\n"
     ]
    }
   ],
   "source": [
    "import sys\n",
    "import numpy as np\n",
    "import unittest\n",
    "sys.path.append(\"../source\")\n",
    "from data_processing import DataProcessing\n",
    "\n",
    "\n",
    "data_processing = DataProcessing(target_sr=8000)\n",
    "fs = 44100 # sample rate of the audio data\n",
    "fs_t = 8000 # target sample rate\n",
    "data = np.random.rand(fs_t) # dummy audio data\n",
    "resampled_data = data_processing.resample_data(fs_t, data)\n",
    "result1 = resampled_data.shape\n",
    "result2 = data.shape\n",
    "print(result1, result2)\n"
   ]
  },
  {
   "cell_type": "code",
   "execution_count": null,
   "metadata": {},
   "outputs": [],
   "source": [
    "def test_resample_data(self):\n",
    "    resampled_data = self.data_processing.resample_data(self.fs, self.data)\n",
    "    self.assertEqual(resampled_data.shape, self.data.shape)\n",
    "\n",
    "def test_zero_pad(self):\n",
    "    zero_padded_data = self.data_processing.zero_pad(self.data)\n",
    "    self.assertEqual(zero_padded_data.shape, (self.data_processing.target_sr,))\n",
    "\n",
    "def test_fft_data(self):\n",
    "    fft_data = self.data_processing.fft_data(self.data)\n",
    "    self.assertEqual(fft_data.shape, self.data.shape)\n",
    "\n",
    "def test_bandpass_filter(self):\n",
    "    filtered_fft_data = self.data_processing.bandpass_filter(\n",
    "        self.fft_data, self.low_threshold, self.high_threshold)\n",
    "    self.assertEqual(filtered_fft_data.shape, self.fft_data.shape)\n",
    "\n",
    "def test_feature_creation(self):\n",
    "    features = self.data_processing.feature_creation(self.fft_data)\n",
    "    self.assertEqual(set(features.keys()), {'mean', 'std', 'med', 'iqr', 'min', 'max'})\n",
    "\n",
    "def test_normalize_features(self):\n",
    "    normalized_features = self.data_processing.normalize_features(self.features)\n",
    "    self.assertEqual(set(normalized_features.keys()), {'mean', 'std', 'med', 'iqr', 'min', 'max'})\n",
    "    self.assertEqual(min(normalized_features.values()), 0)\n",
    "    self.assertEqual(max(normalized_features.values()), 1)\n",
    "\n",
    "def test_add_gender(self):\n",
    "    features_with_gender = self.data_processing.add_gender(self.features, \"male\")\n",
    "    self.assertEqual(set(features_with_gender.keys()), {'mean', 'std', 'med', 'iqr', 'min', 'max', 'gender'})\n",
    "    self.assertEqual(features_with_gender['gender'], \"male\")\n",
    "\n",
    "def test_add_digit(self):\n",
    "    features_with_digit = self.data_processing.add_digit(self.features, \"1\")\n",
    "    self.assertIn(\"digit\", features_with_digit.keys())\n",
    "    self.assertEqual(features_with_digit[\"digit\"], \"1\")"
   ]
  }
 ],
 "metadata": {
  "kernelspec": {
   "display_name": "base",
   "language": "python",
   "name": "python3"
  },
  "language_info": {
   "codemirror_mode": {
    "name": "ipython",
    "version": 3
   },
   "file_extension": ".py",
   "mimetype": "text/x-python",
   "name": "python",
   "nbconvert_exporter": "python",
   "pygments_lexer": "ipython3",
   "version": "3.8.5"
  },
  "orig_nbformat": 4,
  "vscode": {
   "interpreter": {
    "hash": "d23f3ceec305a45481076084313530cecc6283a24046b34365f00383ab0a81b1"
   }
  }
 },
 "nbformat": 4,
 "nbformat_minor": 2
}
